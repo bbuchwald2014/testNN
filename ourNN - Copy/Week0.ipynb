{
 "cells": [
  {
   "cell_type": "markdown",
   "metadata": {},
   "source": [
    "# Week 0 Introduction into Python"
   ]
  },
  {
   "cell_type": "code",
   "execution_count": 10,
   "metadata": {},
   "outputs": [],
   "source": [
    "#Header\n",
    "import numpy as np\n",
    "from typing import Final"
   ]
  },
  {
   "cell_type": "code",
   "execution_count": 11,
   "metadata": {},
   "outputs": [],
   "source": [
    "#Main\n"
   ]
  },
  {
   "cell_type": "code",
   "execution_count": 12,
   "metadata": {},
   "outputs": [
    {
     "ename": "NameError",
     "evalue": "name 'ourNum' is not defined",
     "output_type": "error",
     "traceback": [
      "\u001b[1;31m---------------------------------------------------------------------------\u001b[0m",
      "\u001b[1;31mNameError\u001b[0m                                 Traceback (most recent call last)",
      "Cell \u001b[1;32mIn[12], line 20\u001b[0m\n\u001b[0;32m     17\u001b[0m         \u001b[38;5;28mprint\u001b[39m(\u001b[38;5;124m'\u001b[39m\u001b[38;5;124mOur current string is \u001b[39m\u001b[38;5;124m'\u001b[39m, currentString)\n\u001b[0;32m     18\u001b[0m     \u001b[38;5;28;01mreturn\u001b[39;00m (\u001b[38;5;28mint\u001b[39m(currentString))\n\u001b[1;32m---> 20\u001b[0m \u001b[38;5;28mprint\u001b[39m(\u001b[38;5;124m'\u001b[39m\u001b[38;5;124mShow that our number is an integer by adding 1: \u001b[39m\u001b[38;5;124m'\u001b[39m, \u001b[38;5;124m'\u001b[39m\u001b[38;5;124m1 + \u001b[39m\u001b[38;5;124m'\u001b[39m ,  \u001b[43mourNum\u001b[49m , \u001b[38;5;124m'\u001b[39m\u001b[38;5;124m = \u001b[39m\u001b[38;5;124m'\u001b[39m,  \u001b[38;5;124mf\u001b[39m\u001b[38;5;124m'\u001b[39m\u001b[38;5;132;01m{\u001b[39;00mourNum\u001b[38;5;250m \u001b[39m\u001b[38;5;241m+\u001b[39m\u001b[38;5;250m \u001b[39m\u001b[38;5;241m1\u001b[39m\u001b[38;5;132;01m}\u001b[39;00m\u001b[38;5;124m'\u001b[39m, sep \u001b[38;5;241m=\u001b[39m \u001b[38;5;124m\"\u001b[39m\u001b[38;5;124m   \u001b[39m\u001b[38;5;124m\"\u001b[39m)\n\u001b[0;32m     21\u001b[0m ourNum \u001b[38;5;241m=\u001b[39m extract_Pi_Nums(\u001b[38;5;241m20\u001b[39m)\n",
      "\u001b[1;31mNameError\u001b[0m: name 'ourNum' is not defined"
     ]
    }
   ],
   "source": [
    "#Exercises\n",
    "#1. Write a loop that extracts the first n digits of pi as integers\n",
    "#cant declare variable or value as constant in python***\n",
    "PI_Num_Digits = int(np.pi - 3)\n",
    "PI_STRING = (f'{np.pi}')\n",
    "\n",
    "def extract_Pi_Nums(ndigits):\n",
    "    currentString = ''\n",
    "    for x in range(ndigits + 1):\n",
    "        if len((currentString)) > len(PI_STRING):\n",
    "              return (int(currentString))\n",
    "\n",
    "        if PI_STRING[x] == ('.' or ','):\n",
    "            continue\n",
    "        #account for decimal with +1\n",
    "        currentString += PI_STRING[x]\n",
    "        print('Our current string is ', currentString)\n",
    "    return (int(currentString))\n",
    "\n",
    "print('Show that our number is an integer by adding 1: ', '1 + ' ,  ourNum , ' = ',  f'{ourNum + 1}', sep = \"   \")\n",
    "ourNum = extract_Pi_Nums(20)"
   ]
  },
  {
   "cell_type": "code",
   "execution_count": null,
   "metadata": {},
   "outputs": [
    {
     "name": "stdout",
     "output_type": "stream",
     "text": [
      "5.0  = our running sum on iteration  0\n",
      "5.0  = our running sum on iteration  0\n",
      "12.5  = our running sum on iteration  1\n",
      "17.5  = our running sum on iteration  1\n",
      "20.833333333333332  = our running sum on iteration  2\n",
      "38.33333333333333  = our running sum on iteration  2\n",
      "26.041666666666668  = our running sum on iteration  3\n",
      "64.375  = our running sum on iteration  3\n",
      "26.041666666666668  = our running sum on iteration  4\n",
      "90.41666666666667  = our running sum on iteration  4\n",
      "21.70138888888889  = our running sum on iteration  5\n",
      "112.11805555555556  = our running sum on iteration  5\n",
      "15.500992063492063  = our running sum on iteration  6\n",
      "127.61904761904762  = our running sum on iteration  6\n",
      "9.68812003968254  = our running sum on iteration  7\n",
      "137.30716765873015  = our running sum on iteration  7\n",
      "5.3822889109347445  = our running sum on iteration  8\n",
      "142.68945656966488  = our running sum on iteration  8\n",
      "2.6911444554673722  = our running sum on iteration  9\n",
      "145.38060102513225  = our running sum on iteration  9\n",
      "1.2232474797578965  = our running sum on iteration  10\n",
      "146.60384850489015  = our running sum on iteration  10\n",
      "0.5096864498991235  = our running sum on iteration  11\n",
      "147.1135349547893  = our running sum on iteration  11\n",
      "0.19603324996120136  = our running sum on iteration  12\n",
      "147.3095682047505  = our running sum on iteration  12\n",
      "0.07001187498614334  = our running sum on iteration  13\n",
      "147.37958007973663  = our running sum on iteration  13\n",
      "0.02333729166204778  = our running sum on iteration  14\n",
      "147.40291737139867  = our running sum on iteration  14\n",
      "0.007292903644389931  = our running sum on iteration  15\n",
      "147.41021027504306  = our running sum on iteration  15\n",
      "0.0021449716601146854  = our running sum on iteration  16\n",
      "147.41235524670316  = our running sum on iteration  16\n",
      "0.0005958254611429682  = our running sum on iteration  17\n",
      "147.4129510721643  = our running sum on iteration  17\n",
      "0.00015679617398499165  = our running sum on iteration  18\n",
      "147.4131078683383  = our running sum on iteration  18\n",
      "3.919904349624791e-05  = our running sum on iteration  19\n",
      "147.4131470673818  = our running sum on iteration  19\n",
      "9.333105594344741e-06  = our running sum on iteration  20\n",
      "147.4131564004874  = our running sum on iteration  20\n",
      "2.1211603623510775e-06  = our running sum on iteration  21\n",
      "147.41315852164774  = our running sum on iteration  21\n",
      "4.611218179024081e-07  = our running sum on iteration  22\n",
      "147.41315898276957  = our running sum on iteration  22\n",
      "9.606704539633503e-08  = our running sum on iteration  23\n",
      "147.41315907883663  = our running sum on iteration  23\n",
      "1.9213409079267007e-08  = our running sum on iteration  24\n",
      "147.41315909805004  = our running sum on iteration  24\n",
      "3.694886361397501e-09  = our running sum on iteration  25\n",
      "147.41315910174492  = our running sum on iteration  25\n",
      "6.842382150736113e-10  = our running sum on iteration  26\n",
      "147.41315910242915  = our running sum on iteration  26\n",
      "1.2218539554885916e-10  = our running sum on iteration  27\n",
      "147.41315910255133  = our running sum on iteration  27\n",
      "2.1066447508423994e-11  = our running sum on iteration  28\n",
      "147.4131591025724  = our running sum on iteration  28\n",
      "3.5110745847373324e-12  = our running sum on iteration  29\n",
      "147.41315910257592  = our running sum on iteration  29\n",
      "Show that our estimation of e^5 for precision n = 30   148.41315910257592    is about numpys estimation    148.4131591025766\n"
     ]
    }
   ],
   "source": [
    "#2. Write a loop to estimate eX as the sum of the first n terms of the Taylor series expansion \n",
    "\n",
    "\n",
    "def estimate_e_exp_x (n, x):\n",
    "    currentDenom = 1\n",
    "    currentNum = 1\n",
    "    runningSum = 0\n",
    "    if (x == 0 or n == 0):\n",
    "        return 1\n",
    "    if (n == 1):\n",
    "        return np.exp(1)\n",
    "    for i in range(n):\n",
    "        currentNum *= x\n",
    "        currentDenom *= (i+1)\n",
    "        print(currentNum/currentDenom, ' = our running sum on iteration ' , i)\n",
    "        runningSum += (currentNum/currentDenom)\n",
    "        print(runningSum, ' = our running sum on iteration ' , i)\n",
    "    \n",
    "   \n",
    "    return (runningSum + 1)\n",
    "\n",
    "\n",
    "print('Show that our estimation of e^5 for precision n = 30', estimate_e_exp_x(30, 5) , ' is about numpys estimation ',  f'{np.exp(5)}', sep = \"   \")\n",
    "\n",
    "\n",
    "\n",
    "\n",
    "\n",
    "\n"
   ]
  },
  {
   "cell_type": "markdown",
   "metadata": {},
   "source": []
  },
  {
   "cell_type": "markdown",
   "metadata": {},
   "source": []
  },
  {
   "cell_type": "code",
   "execution_count": 14,
   "metadata": {},
   "outputs": [
    {
     "ename": "AttributeError",
     "evalue": "module 'numpy' has no attribute 'hstacks'",
     "output_type": "error",
     "traceback": [
      "\u001b[1;31m---------------------------------------------------------------------------\u001b[0m",
      "\u001b[1;31mAttributeError\u001b[0m                            Traceback (most recent call last)",
      "Cell \u001b[1;32mIn[14], line 18\u001b[0m\n\u001b[0;32m     16\u001b[0m our_data \u001b[38;5;241m=\u001b[39m [\u001b[38;5;241m0\u001b[39m,  \u001b[38;5;241m2\u001b[39m,  \u001b[38;5;241m3\u001b[39m,  \u001b[38;5;241m4\u001b[39m]\n\u001b[0;32m     17\u001b[0m our_labels \u001b[38;5;241m=\u001b[39m [\u001b[38;5;124m\"\u001b[39m\u001b[38;5;124mone\u001b[39m\u001b[38;5;124m\"\u001b[39m, \u001b[38;5;124m\"\u001b[39m\u001b[38;5;124mtwo\u001b[39m\u001b[38;5;124m\"\u001b[39m]\n\u001b[1;32m---> 18\u001b[0m \u001b[38;5;28mprint\u001b[39m(\u001b[38;5;124mf\u001b[39m\u001b[38;5;124m'\u001b[39m\u001b[38;5;132;01m{\u001b[39;00mLinearRegression(our_data,\u001b[38;5;250m \u001b[39mour_labels)\u001b[38;5;132;01m}\u001b[39;00m\u001b[38;5;124m'\u001b[39m)\n",
      "Cell \u001b[1;32mIn[14], line 3\u001b[0m, in \u001b[0;36mLinearRegression.__init__\u001b[1;34m(self, X, y)\u001b[0m\n\u001b[0;32m      2\u001b[0m \u001b[38;5;28;01mdef\u001b[39;00m \u001b[38;5;21m__init__\u001b[39m(\u001b[38;5;28mself\u001b[39m, X, y):\n\u001b[1;32m----> 3\u001b[0m     \u001b[38;5;28mself\u001b[39m\u001b[38;5;241m.\u001b[39mdata \u001b[38;5;241m=\u001b[39m \u001b[43mnp\u001b[49m\u001b[38;5;241;43m.\u001b[39;49m\u001b[43mhstacks\u001b[49m((np\u001b[38;5;241m.\u001b[39mones([X\u001b[38;5;241m.\u001b[39mshape[\u001b[38;5;241m0\u001b[39m], \u001b[38;5;241m1\u001b[39m]), X))\n\u001b[0;32m      4\u001b[0m     \u001b[38;5;28mself\u001b[39m\u001b[38;5;241m.\u001b[39moutputs \u001b[38;5;241m=\u001b[39m y\n",
      "File \u001b[1;32mc:\\Users\\Usselman Lab\\AppData\\Local\\Programs\\Python\\Python310\\lib\\site-packages\\numpy\\__init__.py:347\u001b[0m, in \u001b[0;36m__getattr__\u001b[1;34m(attr)\u001b[0m\n\u001b[0;32m    344\u001b[0m     \u001b[38;5;124m\"\u001b[39m\u001b[38;5;124mRemoved in NumPy 1.25.0\u001b[39m\u001b[38;5;124m\"\u001b[39m\n\u001b[0;32m    345\u001b[0m     \u001b[38;5;28;01mraise\u001b[39;00m \u001b[38;5;167;01mRuntimeError\u001b[39;00m(\u001b[38;5;124m\"\u001b[39m\u001b[38;5;124mTester was removed in NumPy 1.25.\u001b[39m\u001b[38;5;124m\"\u001b[39m)\n\u001b[1;32m--> 347\u001b[0m \u001b[38;5;28;01mraise\u001b[39;00m \u001b[38;5;167;01mAttributeError\u001b[39;00m(\u001b[38;5;124m\"\u001b[39m\u001b[38;5;124mmodule \u001b[39m\u001b[38;5;132;01m{!r}\u001b[39;00m\u001b[38;5;124m has no attribute \u001b[39m\u001b[38;5;124m\"\u001b[39m\n\u001b[0;32m    348\u001b[0m                      \u001b[38;5;124m\"\u001b[39m\u001b[38;5;132;01m{!r}\u001b[39;00m\u001b[38;5;124m\"\u001b[39m\u001b[38;5;241m.\u001b[39mformat(\u001b[38;5;18m__name__\u001b[39m, attr))\n",
      "\u001b[1;31mAttributeError\u001b[0m: module 'numpy' has no attribute 'hstacks'"
     ]
    }
   ],
   "source": [
    "class LinearRegression:\n",
    "    def __init__(self, X, y):\n",
    "        self.data = np.hstacks((np.ones([X.shape[0], 1]), X))\n",
    "        self.outputs = y\n",
    "    def fit(self, X, y):\n",
    "        X = self.data\n",
    "        y = self.outputs\n",
    "        self.theta = np.linalg.inv(X.T @ X) @ X.T @ y\n",
    "    def predict(self, X):\n",
    "        X = np.hstack((np.ones([X.shape[0],1]), X))\n",
    "        return X @ self.theta\n",
    "\n",
    "\n",
    "\n",
    "our_data = [0,  2,  3,  4]\n",
    "our_labels = [\"one\", \"two\"]\n",
    "print(f'{LinearRegression(our_data, our_labels)}')\n",
    "      "
   ]
  },
  {
   "cell_type": "code",
   "execution_count": 23,
   "metadata": {},
   "outputs": [
    {
     "name": "stdout",
     "output_type": "stream",
     "text": [
      "[3, 4, 3, 4]\n",
      "[[0]\n",
      " [2]\n",
      " [3]\n",
      " [4]]\n",
      "<__main__.LinearRegression object at 0x000001D4EA0ED300>\n"
     ]
    },
    {
     "ename": "UFuncTypeError",
     "evalue": "ufunc 'matmul' did not contain a loop with signature matching types (dtype('float64'), dtype('<U3')) -> None",
     "output_type": "error",
     "traceback": [
      "\u001b[1;31m---------------------------------------------------------------------------\u001b[0m",
      "\u001b[1;31mUFuncTypeError\u001b[0m                            Traceback (most recent call last)",
      "Cell \u001b[1;32mIn[23], line 42\u001b[0m\n\u001b[0;32m     40\u001b[0m \u001b[38;5;28mprint\u001b[39m(\u001b[38;5;124mf\u001b[39m\u001b[38;5;124m'\u001b[39m\u001b[38;5;132;01m{\u001b[39;00mLinearRegression(our_data,\u001b[38;5;250m \u001b[39mour_labels)\u001b[38;5;132;01m}\u001b[39;00m\u001b[38;5;124m'\u001b[39m)\n\u001b[0;32m     41\u001b[0m model \u001b[38;5;241m=\u001b[39m LinearRegression(our_data, our_labels)\n\u001b[1;32m---> 42\u001b[0m fitdata \u001b[38;5;241m=\u001b[39m \u001b[43mmodel\u001b[49m\u001b[38;5;241;43m.\u001b[39;49m\u001b[43mfit\u001b[49m\u001b[43m(\u001b[49m\u001b[43mour_data\u001b[49m\u001b[43m,\u001b[49m\u001b[43m \u001b[49m\u001b[43mour_labels\u001b[49m\u001b[43m)\u001b[49m\n",
      "Cell \u001b[1;32mIn[23], line 21\u001b[0m, in \u001b[0;36mLinearRegression.fit\u001b[1;34m(self, X, y)\u001b[0m\n\u001b[0;32m     18\u001b[0m y \u001b[38;5;241m=\u001b[39m \u001b[38;5;28mself\u001b[39m\u001b[38;5;241m.\u001b[39moutputs\n\u001b[0;32m     20\u001b[0m \u001b[38;5;66;03m# compute optimal values for theta and save as a class variable\u001b[39;00m\n\u001b[1;32m---> 21\u001b[0m \u001b[38;5;28mself\u001b[39m\u001b[38;5;241m.\u001b[39mtheta \u001b[38;5;241m=\u001b[39m \u001b[43mnp\u001b[49m\u001b[38;5;241;43m.\u001b[39;49m\u001b[43mlinalg\u001b[49m\u001b[38;5;241;43m.\u001b[39;49m\u001b[43minv\u001b[49m\u001b[43m(\u001b[49m\u001b[43mX\u001b[49m\u001b[38;5;241;43m.\u001b[39;49m\u001b[43mT\u001b[49m\u001b[43m \u001b[49m\u001b[38;5;241;43m@\u001b[39;49m\u001b[43m \u001b[49m\u001b[43mX\u001b[49m\u001b[43m)\u001b[49m\u001b[43m \u001b[49m\u001b[38;5;241;43m@\u001b[39;49m\u001b[43m \u001b[49m\u001b[43mX\u001b[49m\u001b[38;5;241;43m.\u001b[39;49m\u001b[43mT\u001b[49m\u001b[43m \u001b[49m\u001b[38;5;241;43m@\u001b[39;49m\u001b[43m \u001b[49m\u001b[43my\u001b[49m\n",
      "\u001b[1;31mUFuncTypeError\u001b[0m: ufunc 'matmul' did not contain a loop with signature matching types (dtype('float64'), dtype('<U3')) -> None"
     ]
    }
   ],
   "source": [
    "# import the numpy library\n",
    "import numpy as np\n",
    "\n",
    "# create a class\n",
    "class LinearRegression:\n",
    "\n",
    "    def __init__(self, X, y):\n",
    "        # append a column of ones to X and save as a class variable\n",
    "        self.data = np.hstack((np.ones([X.shape[0], 1]), X))\n",
    "        \n",
    "        # save the training labels as a class variable\n",
    "        self.outputs = y\n",
    "        \n",
    "    # fit the model to the (training) data\n",
    "    def fit(self, X, y):\n",
    "        # get the data and outputs\n",
    "        X = self.data\n",
    "        y = self.outputs\n",
    "\n",
    "        # compute optimal values for theta and save as a class variable\n",
    "        self.theta = np.linalg.inv(X.T @ X) @ X.T @ y\n",
    "                    # @ is a decorator which returns a function .... hence the result of X passed as a parameter to the self.theta func\n",
    "    #decorators are just wrapping functions...  a class might be wrapped in another class as the original class can't support a particular interface\n",
    "    # predict the output from input (testing) data\n",
    "    def predict(self, X):\n",
    "        \n",
    "        # append a column of ones at the beginning of X\n",
    "        X = np.hstack((np.ones([X.shape[0],1]), X))\n",
    "    \n",
    "        \n",
    "        # return the outputs\n",
    "        return X @ self.theta\n",
    "    \n",
    "\n",
    "our_data = ([3,  4,  3,  4])\n",
    "print(our_data)\n",
    "our_data = our_data = np.array([0, 2, 3, 4]).reshape(-1, 1)\n",
    "print(our_data)\n",
    "our_labels = [\"one\", \"two\"]\n",
    "print(f'{LinearRegression(our_data, our_labels)}')\n",
    "model = LinearRegression(our_data, our_labels)\n",
    "fitdata = model.fit(our_data, our_labels)"
   ]
  },
  {
   "cell_type": "markdown",
   "metadata": {},
   "source": [
    "class LinearRegression:"
   ]
  },
  {
   "cell_type": "markdown",
   "metadata": {},
   "source": []
  }
 ],
 "metadata": {
  "kernelspec": {
   "display_name": "Python 3",
   "language": "python",
   "name": "python3"
  },
  "language_info": {
   "codemirror_mode": {
    "name": "ipython",
    "version": 3
   },
   "file_extension": ".py",
   "mimetype": "text/x-python",
   "name": "python",
   "nbconvert_exporter": "python",
   "pygments_lexer": "ipython3",
   "version": "3.10.4"
  }
 },
 "nbformat": 4,
 "nbformat_minor": 2
}
